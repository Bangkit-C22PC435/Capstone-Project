{
  "cells": [
    {
      "cell_type": "code",
      "execution_count": null,
      "metadata": {
        "colab": {
          "base_uri": "https://localhost:8080/"
        },
        "id": "B2i0ymREPujf",
        "outputId": "7623c6e3-632d-4fa1-cf85-de412b9fab46"
      },
      "outputs": [
        {
          "name": "stdout",
          "output_type": "stream",
          "text": [
            "4986\n"
          ]
        }
      ],
      "source": [
        "import os\n",
        "\n",
        "print(len(os.listdir(\"/content/drive/MyDrive/QRCODE_model/dataset/original\")))"
      ]
    },
    {
      "cell_type": "code",
      "execution_count": null,
      "metadata": {
        "colab": {
          "base_uri": "https://localhost:8080/"
        },
        "id": "FxNNki9_jbss",
        "outputId": "adf37774-c28b-429e-f563-1b9e0c7a8a1f"
      },
      "outputs": [
        {
          "name": "stdout",
          "output_type": "stream",
          "text": [
            "4986\n"
          ]
        }
      ],
      "source": [
        "print(len(os.listdir(\"/content/drive/MyDrive/QRCODE_model/dataset/lr_imgs\")))"
      ]
    },
    {
      "cell_type": "code",
      "execution_count": null,
      "metadata": {
        "colab": {
          "base_uri": "https://localhost:8080/"
        },
        "id": "AFgBD7Dljn7a",
        "outputId": "f0fd74e5-0746-4e82-d50f-d48959e8a546"
      },
      "outputs": [
        {
          "name": "stdout",
          "output_type": "stream",
          "text": [
            "4986\n"
          ]
        }
      ],
      "source": [
        "print(len(os.listdir(\"/content/drive/MyDrive/QRCODE_model/dataset/hr_imgs\")))"
      ]
    },
    {
      "cell_type": "markdown",
      "source": [
        "Import Libraries"
      ],
      "metadata": {
        "id": "Ct7Rgc0ZuewM"
      }
    },
    {
      "cell_type": "code",
      "execution_count": null,
      "metadata": {
        "id": "lQKeg6BzMHgW"
      },
      "outputs": [],
      "source": [
        "import cv2\n",
        "import numpy as np\n",
        "import matplotlib.pyplot as plt\n",
        "from keras.models import Sequential\n",
        "from keras import layers, Model\n",
        "from sklearn.model_selection import train_test_split\n",
        "\n",
        "import numpy as np\n",
        "from keras import Model\n",
        "from keras.layers import Conv2D, PReLU, BatchNormalization, Flatten\n",
        "from keras.layers import UpSampling2D, LeakyReLU, Dense, Input, add\n",
        "from tqdm import tqdm\n"
      ]
    },
    {
      "cell_type": "markdown",
      "source": [
        "Defining Block to Generator"
      ],
      "metadata": {
        "id": "dE9tKSL9ulqB"
      }
    },
    {
      "cell_type": "code",
      "execution_count": null,
      "metadata": {
        "id": "BWFKhYqGNEin"
      },
      "outputs": [],
      "source": [
        "def block_res(ip):\n",
        "\n",
        "  res_model = Conv2D(64, (3, 3), padding = \"same\")(ip)\n",
        "  res_model = BatchNormalization(momentum = 0.5)(res_model)\n",
        "  res_model = PReLU(shared_axes = [1,2])(res_model)\n",
        "\n",
        "  res_model = Conv2D(64, (3, 3), padding = \"same\")(res_model)\n",
        "  res_model = BatchNormalization(momentum = 0.5)(res_model)\n",
        "  return add([ip, res_model])\n",
        "\n",
        "def block_upscale(ip):\n",
        "\n",
        "  up_model = Conv2D(256, (3, 3), padding = \"same\")(ip)\n",
        "  up_model = UpSampling2D(size = 2)(up_model)\n",
        "  up_model = PReLU(shared_axes = [1,2])(up_model)\n",
        "  return up_model"
      ]
    },
    {
      "cell_type": "markdown",
      "source": [
        "Create Generator function"
      ],
      "metadata": {
        "id": "QhQQerJDwBCz"
      }
    },
    {
      "cell_type": "code",
      "execution_count": null,
      "metadata": {
        "id": "U6QBAcB6OneR"
      },
      "outputs": [],
      "source": [
        "def create_generator(gen_ip, num_res_block):\n",
        "\n",
        "  layers = Conv2D(64, (9, 9), padding = \"same\")(gen_ip)\n",
        "  layers = PReLU(shared_axes = [1,2])(layers)\n",
        "\n",
        "  temp = layers\n",
        "\n",
        "  for index in range(num_res_block):\n",
        "    layers = block_res(layers)\n",
        "\n",
        "  layers = Conv2D(64, (3, 3), padding = \"same\")(layers)\n",
        "  layers = BatchNormalization(momentum = 0.5)(layers)\n",
        "  layers = add([layers, temp])\n",
        "\n",
        "  layers = block_upscale(layers)\n",
        "  layers = block_upscale(layers)\n",
        "\n",
        "  op = Conv2D(3, (9, 9), padding = \"same\")(layers)\n",
        "\n",
        "  return Model(inputs=gen_ip, outputs=op)\n",
        "\n",
        "\n"
      ]
    },
    {
      "cell_type": "markdown",
      "source": [
        "Defining Block to Discriminator"
      ],
      "metadata": {
        "id": "uBzNK2wNwFYU"
      }
    },
    {
      "cell_type": "code",
      "execution_count": null,
      "metadata": {
        "id": "vcloDW0UTxoY"
      },
      "outputs": [],
      "source": [
        "def block_discriminator(ip, filters, strides=1, bn=True):\n",
        "\n",
        "  disc_model = Conv2D(filters, (3, 3), strides = strides, padding = \"same\")(ip)\n",
        "\n",
        "  if bn:\n",
        "    disc_model = BatchNormalization(momentum = 0.8)(disc_model)\n",
        "\n",
        "  disc_model = LeakyReLU(alpha = 0.2)(disc_model)\n",
        "\n",
        "  return disc_model"
      ]
    },
    {
      "cell_type": "markdown",
      "source": [
        "Create Discrimination Function"
      ],
      "metadata": {
        "id": "A835JoQ_wJsu"
      }
    },
    {
      "cell_type": "code",
      "execution_count": null,
      "metadata": {
        "id": "2umxDVLQUci3"
      },
      "outputs": [],
      "source": [
        "def create_discriminator(disc_ip):\n",
        "\n",
        "  df = 64\n",
        "\n",
        "  d1 = block_discriminator(disc_ip, df, bn = False)\n",
        "  d2 = block_discriminator(d1, df, strides = 2)\n",
        "  d3 = block_discriminator(d2, df*2)\n",
        "  d4 = block_discriminator(d3, df*2, strides = 2)\n",
        "  d5 = block_discriminator(d4, df*4)\n",
        "  d6 = block_discriminator(d5, df*4, strides = 2)\n",
        "  d7 = block_discriminator(d6, df*8)\n",
        "  d8 = block_discriminator(d7, df*8, strides = 2)\n",
        "\n",
        "  d8_5 = Flatten()(d8)\n",
        "  d9 = Dense(df*16)(d8_5)\n",
        "  d10 = LeakyReLU(alpha = 0.2)(d9)\n",
        "  validity = Dense(1, activation = \"sigmoid\")(d10)\n",
        "\n",
        "  return Model(disc_ip, validity)"
      ]
    },
    {
      "cell_type": "code",
      "execution_count": null,
      "metadata": {
        "id": "k6dXLtDVVpP9"
      },
      "outputs": [],
      "source": [
        "from keras.applications.vgg19 import VGG19\n",
        "\n",
        "def vgg_build(hr_shape):\n",
        "\n",
        "  vgg = VGG19(weights = \"imagenet\", include_top = False, input_shape = hr_shape)\n",
        "\n",
        "  return Model(inputs=vgg.inputs, outputs=vgg.layers[10].output)"
      ]
    },
    {
      "cell_type": "code",
      "execution_count": null,
      "metadata": {
        "id": "ansokxinWHqd"
      },
      "outputs": [],
      "source": [
        "def create_combined(gen_model, disc_model, vgg, lr_ip, hr_ip):\n",
        "  gen_img = gen_model(lr_ip)\n",
        "\n",
        "  gen_features = vgg(gen_img)\n",
        "\n",
        "  disc_model.trainable = False\n",
        "  validity = disc_model(gen_img)\n",
        "  return Model(inputs=[lr_ip, hr_ip], outputs=[validity, gen_features])"
      ]
    },
    {
      "cell_type": "markdown",
      "source": [
        "Setting fixed of training dataset"
      ],
      "metadata": {
        "id": "vkniYzG9vah-"
      }
    },
    {
      "cell_type": "code",
      "execution_count": null,
      "metadata": {
        "id": "1Y4YDBYBWwzq"
      },
      "outputs": [],
      "source": [
        "n = 1500\n",
        "lr_list = os.listdir(\"/content/drive/MyDrive/QRCODE_model/dataset/lr_imgs\")[:n]\n",
        "\n",
        "lr_images = []\n",
        "for images in lr_list:\n",
        "  images_lr = cv2.imread(\"/content/drive/MyDrive/QRCODE_model/dataset/lr_imgs/\" + images)\n",
        "  images_lr = cv2.cvtColor(images_lr, cv2.COLOR_BGR2RGB)\n",
        "  lr_images.append(images_lr)\n",
        "\n",
        "hr_list = os.listdir(\"/content/drive/MyDrive/QRCODE_model/dataset/hr_imgs\")[:n]\n",
        "\n",
        "hr_images = []\n",
        "for images in hr_list:\n",
        "  images_hr = cv2.imread(\"/content/drive/MyDrive/QRCODE_model/dataset/hr_imgs/\" + images)\n",
        "  images_hr = cv2.cvtColor(images_hr, cv2.COLOR_BGR2RGB)\n",
        "  hr_images.append(images_hr)\n",
        "\n",
        "lr_images = np.array(lr_images)\n",
        "hr_images = np.array(hr_images)"
      ]
    },
    {
      "cell_type": "markdown",
      "source": [
        "Visualization of Image"
      ],
      "metadata": {
        "id": "EXRME2KCu4wL"
      }
    },
    {
      "cell_type": "code",
      "execution_count": null,
      "metadata": {
        "colab": {
          "base_uri": "https://localhost:8080/",
          "height": 356
        },
        "id": "FHo7Yjn6YZ1U",
        "outputId": "3cec3e2d-3993-42a8-9f25-8f6b311fdcae"
      },
      "outputs": [
        {
          "data": {
            "image/png": "[encoded data removed]",
            "text/plain": [
              "<Figure size 864x432 with 2 Axes>"
            ]
          },
          "metadata": {},
          "output_type": "display_data"
        }
      ],
      "source": [
        "import random\n",
        "import numpy as np\n",
        "\n",
        "image_number = random.randint(0, len(lr_images)-1)\n",
        "plt.figure(figsize=(12, 6))\n",
        "plt.subplot(121)\n",
        "plt.imshow(np.reshape(lr_images[image_number], (50, 50, 3)))\n",
        "plt.subplot(122)\n",
        "plt.imshow(np.reshape(hr_images[image_number], (200, 200, 3)))\n",
        "plt.show()\n"
      ]
    },
    {
      "cell_type": "code",
      "execution_count": null,
      "metadata": {
        "id": "Kg4mEgmfhFbs"
      },
      "outputs": [],
      "source": [
        "# Scaling values\n",
        "\n",
        "lr_images = lr_images / 255.\n",
        "hr_images = hr_images / 255.\n",
        "\n",
        "# Split into train and test\n",
        "\n",
        "lr_train, lr_test, hr_train, hr_test = train_test_split(lr_images, hr_images,\n",
        "                                                        test_size=0.33, random_state=42)"
      ]
    },
    {
      "cell_type": "markdown",
      "source": [
        "Generate VGG Model"
      ],
      "metadata": {
        "id": "-bnn_N4au7vd"
      }
    },
    {
      "cell_type": "code",
      "execution_count": null,
      "metadata": {
        "colab": {
          "base_uri": "https://localhost:8080/"
        },
        "id": "RLcTBgwShSp4",
        "outputId": "bd1acf7b-1a40-43ec-e1f4-0a29847139fb"
      },
      "outputs": [
        {
          "name": "stdout",
          "output_type": "stream",
          "text": [
            "Model: \"model\"\n",
            "__________________________________________________________________________________________________\n",
            " Layer (type)                   Output Shape         Param #     Connected to                     \n",
            "==================================================================================================\n",
            " input_1 (InputLayer)           [(None, 50, 50, 3)]  0           []                               \n",
            "                                                                                                  \n",
            " conv2d (Conv2D)                (None, 50, 50, 64)   15616       ['input_1[0][0]']                \n",
            "                                                                                                  \n",
            " p_re_lu (PReLU)                (None, 50, 50, 64)   64          ['conv2d[0][0]']                 \n",
            "                                                                                                  \n",
            " conv2d_1 (Conv2D)              (None, 50, 50, 64)   36928       ['p_re_lu[0][0]']                \n",
            "                                                                                                  \n",
            " batch_normalization (BatchNorm  (None, 50, 50, 64)  256         ['conv2d_1[0][0]']               \n",
            " alization)                                                                                       \n",
            "                                                                                                  \n",
            " p_re_lu_1 (PReLU)              (None, 50, 50, 64)   64          ['batch_normalization[0][0]']    \n",
            "                                                                                                  \n",
            " conv2d_2 (Conv2D)              (None, 50, 50, 64)   36928       ['p_re_lu_1[0][0]']              \n",
            "                                                                                                  \n",
            " batch_normalization_1 (BatchNo  (None, 50, 50, 64)  256         ['conv2d_2[0][0]']               \n",
            " rmalization)                                                                                     \n",
            "                                                                                                  \n",
            " add (Add)                      (None, 50, 50, 64)   0           ['p_re_lu[0][0]',                \n",
            "                                                                  'batch_normalization_1[0][0]']  \n",
            "                                                                                                  \n",
            " conv2d_3 (Conv2D)              (None, 50, 50, 64)   36928       ['add[0][0]']                    \n",
            "                                                                                                  \n",
            " batch_normalization_2 (BatchNo  (None, 50, 50, 64)  256         ['conv2d_3[0][0]']               \n",
            " rmalization)                                                                                     \n",
            "                                                                                                  \n",
            " p_re_lu_2 (PReLU)              (None, 50, 50, 64)   64          ['batch_normalization_2[0][0]']  \n",
            "                                                                                                  \n",
            " conv2d_4 (Conv2D)              (None, 50, 50, 64)   36928       ['p_re_lu_2[0][0]']              \n",
            "                                                                                                  \n",
            " batch_normalization_3 (BatchNo  (None, 50, 50, 64)  256         ['conv2d_4[0][0]']               \n",
            " rmalization)                                                                                     \n",
            "                                                                                                  \n",
            " add_1 (Add)                    (None, 50, 50, 64)   0           ['add[0][0]',                    \n",
            "                                                                  'batch_normalization_3[0][0]']  \n",
            "                                                                                                  \n",
            " conv2d_5 (Conv2D)              (None, 50, 50, 64)   36928       ['add_1[0][0]']                  \n",
            "                                                                                                  \n",
            " batch_normalization_4 (BatchNo  (None, 50, 50, 64)  256         ['conv2d_5[0][0]']               \n",
            " rmalization)                                                                                     \n",
            "                                                                                                  \n",
            " p_re_lu_3 (PReLU)              (None, 50, 50, 64)   64          ['batch_normalization_4[0][0]']  \n",
            "                                                                                                  \n",
            " conv2d_6 (Conv2D)              (None, 50, 50, 64)   36928       ['p_re_lu_3[0][0]']              \n",
            "                                                                                                  \n",
            " batch_normalization_5 (BatchNo  (None, 50, 50, 64)  256         ['conv2d_6[0][0]']               \n",
            " rmalization)                                                                                     \n",
            "                                                                                                  \n",
            " add_2 (Add)                    (None, 50, 50, 64)   0           ['add_1[0][0]',                  \n",
            "                                                                  'batch_normalization_5[0][0]']  \n",
            "                                                                                                  \n",
            " conv2d_7 (Conv2D)              (None, 50, 50, 64)   36928       ['add_2[0][0]']                  \n",
            "                                                                                                  \n",
            " batch_normalization_6 (BatchNo  (None, 50, 50, 64)  256         ['conv2d_7[0][0]']               \n",
            " rmalization)                                                                                     \n",
            "                                                                                                  \n",
            " p_re_lu_4 (PReLU)              (None, 50, 50, 64)   64          ['batch_normalization_6[0][0]']  \n",
            "                                                                                                  \n",
            " conv2d_8 (Conv2D)              (None, 50, 50, 64)   36928       ['p_re_lu_4[0][0]']              \n",
            "                                                                                                  \n",
            " batch_normalization_7 (BatchNo  (None, 50, 50, 64)  256         ['conv2d_8[0][0]']               \n",
            " rmalization)                                                                                     \n",
            "                                                                                                  \n",
            " add_3 (Add)                    (None, 50, 50, 64)   0           ['add_2[0][0]',                  \n",
            "                                                                  'batch_normalization_7[0][0]']  \n",
            "                                                                                                  \n",
            " conv2d_9 (Conv2D)              (None, 50, 50, 64)   36928       ['add_3[0][0]']                  \n",
            "                                                                                                  \n",
            " batch_normalization_8 (BatchNo  (None, 50, 50, 64)  256         ['conv2d_9[0][0]']               \n",
            " rmalization)                                                                                     \n",
            "                                                                                                  \n",
            " p_re_lu_5 (PReLU)              (None, 50, 50, 64)   64          ['batch_normalization_8[0][0]']  \n",
            "                                                                                                  \n",
            " conv2d_10 (Conv2D)             (None, 50, 50, 64)   36928       ['p_re_lu_5[0][0]']              \n",
            "                                                                                                  \n",
            " batch_normalization_9 (BatchNo  (None, 50, 50, 64)  256         ['conv2d_10[0][0]']              \n",
            " rmalization)                                                                                     \n",
            "                                                                                                  \n",
            " add_4 (Add)                    (None, 50, 50, 64)   0           ['add_3[0][0]',                  \n",
            "                                                                  'batch_normalization_9[0][0]']  \n",
            "                                                                                                  \n",
            " conv2d_11 (Conv2D)             (None, 50, 50, 64)   36928       ['add_4[0][0]']                  \n",
            "                                                                                                  \n",
            " batch_normalization_10 (BatchN  (None, 50, 50, 64)  256         ['conv2d_11[0][0]']              \n",
            " ormalization)                                                                                    \n",
            "                                                                                                  \n",
            " p_re_lu_6 (PReLU)              (None, 50, 50, 64)   64          ['batch_normalization_10[0][0]'] \n",
            "                                                                                                  \n",
            " conv2d_12 (Conv2D)             (None, 50, 50, 64)   36928       ['p_re_lu_6[0][0]']              \n",
            "                                                                                                  \n",
            " batch_normalization_11 (BatchN  (None, 50, 50, 64)  256         ['conv2d_12[0][0]']              \n",
            " ormalization)                                                                                    \n",
            "                                                                                                  \n",
            " add_5 (Add)                    (None, 50, 50, 64)   0           ['add_4[0][0]',                  \n",
            "                                                                  'batch_normalization_11[0][0]'] \n",
            "                                                                                                  \n",
            " conv2d_13 (Conv2D)             (None, 50, 50, 64)   36928       ['add_5[0][0]']                  \n",
            "                                                                                                  \n",
            " batch_normalization_12 (BatchN  (None, 50, 50, 64)  256         ['conv2d_13[0][0]']              \n",
            " ormalization)                                                                                    \n",
            "                                                                                                  \n",
            " p_re_lu_7 (PReLU)              (None, 50, 50, 64)   64          ['batch_normalization_12[0][0]'] \n",
            "                                                                                                  \n",
            " conv2d_14 (Conv2D)             (None, 50, 50, 64)   36928       ['p_re_lu_7[0][0]']              \n",
            "                                                                                                  \n",
            " batch_normalization_13 (BatchN  (None, 50, 50, 64)  256         ['conv2d_14[0][0]']              \n",
            " ormalization)                                                                                    \n",
            "                                                                                                  \n",
            " add_6 (Add)                    (None, 50, 50, 64)   0           ['add_5[0][0]',                  \n",
            "                                                                  'batch_normalization_13[0][0]'] \n",
            "                                                                                                  \n",
            " conv2d_15 (Conv2D)             (None, 50, 50, 64)   36928       ['add_6[0][0]']                  \n",
            "                                                                                                  \n",
            " batch_normalization_14 (BatchN  (None, 50, 50, 64)  256         ['conv2d_15[0][0]']              \n",
            " ormalization)                                                                                    \n",
            "                                                                                                  \n",
            " p_re_lu_8 (PReLU)              (None, 50, 50, 64)   64          ['batch_normalization_14[0][0]'] \n",
            "                                                                                                  \n",
            " conv2d_16 (Conv2D)             (None, 50, 50, 64)   36928       ['p_re_lu_8[0][0]']              \n",
            "                                                                                                  \n",
            " batch_normalization_15 (BatchN  (None, 50, 50, 64)  256         ['conv2d_16[0][0]']              \n",
            " ormalization)                                                                                    \n",
            "                                                                                                  \n",
            " add_7 (Add)                    (None, 50, 50, 64)   0           ['add_6[0][0]',                  \n",
            "                                                                  'batch_normalization_15[0][0]'] \n",
            "                                                                                                  \n",
            " conv2d_17 (Conv2D)             (None, 50, 50, 64)   36928       ['add_7[0][0]']                  \n",
            "                                                                                                  \n",
            " batch_normalization_16 (BatchN  (None, 50, 50, 64)  256         ['conv2d_17[0][0]']              \n",
            " ormalization)                                                                                    \n",
            "                                                                                                  \n",
            " p_re_lu_9 (PReLU)              (None, 50, 50, 64)   64          ['batch_normalization_16[0][0]'] \n",
            "                                                                                                  \n",
            " conv2d_18 (Conv2D)             (None, 50, 50, 64)   36928       ['p_re_lu_9[0][0]']              \n",
            "                                                                                                  \n",
            " batch_normalization_17 (BatchN  (None, 50, 50, 64)  256         ['conv2d_18[0][0]']              \n",
            " ormalization)                                                                                    \n",
            "                                                                                                  \n",
            " add_8 (Add)                    (None, 50, 50, 64)   0           ['add_7[0][0]',                  \n",
            "                                                                  'batch_normalization_17[0][0]'] \n",
            "                                                                                                  \n",
            " conv2d_19 (Conv2D)             (None, 50, 50, 64)   36928       ['add_8[0][0]']                  \n",
            "                                                                                                  \n",
            " batch_normalization_18 (BatchN  (None, 50, 50, 64)  256         ['conv2d_19[0][0]']              \n",
            " ormalization)                                                                                    \n",
            "                                                                                                  \n",
            " p_re_lu_10 (PReLU)             (None, 50, 50, 64)   64          ['batch_normalization_18[0][0]'] \n",
            "                                                                                                  \n",
            " conv2d_20 (Conv2D)             (None, 50, 50, 64)   36928       ['p_re_lu_10[0][0]']             \n",
            "                                                                                                  \n",
            " batch_normalization_19 (BatchN  (None, 50, 50, 64)  256         ['conv2d_20[0][0]']              \n",
            " ormalization)                                                                                    \n",
            "                                                                                                  \n",
            " add_9 (Add)                    (None, 50, 50, 64)   0           ['add_8[0][0]',                  \n",
            "                                                                  'batch_normalization_19[0][0]'] \n",
            "                                                                                                  \n",
            " conv2d_21 (Conv2D)             (None, 50, 50, 64)   36928       ['add_9[0][0]']                  \n",
            "                                                                                                  \n",
            " batch_normalization_20 (BatchN  (None, 50, 50, 64)  256         ['conv2d_21[0][0]']              \n",
            " ormalization)                                                                                    \n",
            "                                                                                                  \n",
            " p_re_lu_11 (PReLU)             (None, 50, 50, 64)   64          ['batch_normalization_20[0][0]'] \n",
            "                                                                                                  \n",
            " conv2d_22 (Conv2D)             (None, 50, 50, 64)   36928       ['p_re_lu_11[0][0]']             \n",
            "                                                                                                  \n",
            " batch_normalization_21 (BatchN  (None, 50, 50, 64)  256         ['conv2d_22[0][0]']              \n",
            " ormalization)                                                                                    \n",
            "                                                                                                  \n",
            " add_10 (Add)                   (None, 50, 50, 64)   0           ['add_9[0][0]',                  \n",
            "                                                                  'batch_normalization_21[0][0]'] \n",
            "                                                                                                  \n",
            " conv2d_23 (Conv2D)             (None, 50, 50, 64)   36928       ['add_10[0][0]']                 \n",
            "                                                                                                  \n",
            " batch_normalization_22 (BatchN  (None, 50, 50, 64)  256         ['conv2d_23[0][0]']              \n",
            " ormalization)                                                                                    \n",
            "                                                                                                  \n",
            " p_re_lu_12 (PReLU)             (None, 50, 50, 64)   64          ['batch_normalization_22[0][0]'] \n",
            "                                                                                                  \n",
            " conv2d_24 (Conv2D)             (None, 50, 50, 64)   36928       ['p_re_lu_12[0][0]']             \n",
            "                                                                                                  \n",
            " batch_normalization_23 (BatchN  (None, 50, 50, 64)  256         ['conv2d_24[0][0]']              \n",
            " ormalization)                                                                                    \n",
            "                                                                                                  \n",
            " add_11 (Add)                   (None, 50, 50, 64)   0           ['add_10[0][0]',                 \n",
            "                                                                  'batch_normalization_23[0][0]'] \n",
            "                                                                                                  \n",
            " conv2d_25 (Conv2D)             (None, 50, 50, 64)   36928       ['add_11[0][0]']                 \n",
            "                                                                                                  \n",
            " batch_normalization_24 (BatchN  (None, 50, 50, 64)  256         ['conv2d_25[0][0]']              \n",
            " ormalization)                                                                                    \n",
            "                                                                                                  \n",
            " p_re_lu_13 (PReLU)             (None, 50, 50, 64)   64          ['batch_normalization_24[0][0]'] \n",
            "                                                                                                  \n",
            " conv2d_26 (Conv2D)             (None, 50, 50, 64)   36928       ['p_re_lu_13[0][0]']             \n",
            "                                                                                                  \n",
            " batch_normalization_25 (BatchN  (None, 50, 50, 64)  256         ['conv2d_26[0][0]']              \n",
            " ormalization)                                                                                    \n",
            "                                                                                                  \n",
            " add_12 (Add)                   (None, 50, 50, 64)   0           ['add_11[0][0]',                 \n",
            "                                                                  'batch_normalization_25[0][0]'] \n",
            "                                                                                                  \n",
            " conv2d_27 (Conv2D)             (None, 50, 50, 64)   36928       ['add_12[0][0]']                 \n",
            "                                                                                                  \n",
            " batch_normalization_26 (BatchN  (None, 50, 50, 64)  256         ['conv2d_27[0][0]']              \n",
            " ormalization)                                                                                    \n",
            "                                                                                                  \n",
            " p_re_lu_14 (PReLU)             (None, 50, 50, 64)   64          ['batch_normalization_26[0][0]'] \n",
            "                                                                                                  \n",
            " conv2d_28 (Conv2D)             (None, 50, 50, 64)   36928       ['p_re_lu_14[0][0]']             \n",
            "                                                                                                  \n",
            " batch_normalization_27 (BatchN  (None, 50, 50, 64)  256         ['conv2d_28[0][0]']              \n",
            " ormalization)                                                                                    \n",
            "                                                                                                  \n",
            " add_13 (Add)                   (None, 50, 50, 64)   0           ['add_12[0][0]',                 \n",
            "                                                                  'batch_normalization_27[0][0]'] \n",
            "                                                                                                  \n",
            " conv2d_29 (Conv2D)             (None, 50, 50, 64)   36928       ['add_13[0][0]']                 \n",
            "                                                                                                  \n",
            " batch_normalization_28 (BatchN  (None, 50, 50, 64)  256         ['conv2d_29[0][0]']              \n",
            " ormalization)                                                                                    \n",
            "                                                                                                  \n",
            " p_re_lu_15 (PReLU)             (None, 50, 50, 64)   64          ['batch_normalization_28[0][0]'] \n",
            "                                                                                                  \n",
            " conv2d_30 (Conv2D)             (None, 50, 50, 64)   36928       ['p_re_lu_15[0][0]']             \n",
            "                                                                                                  \n",
            " batch_normalization_29 (BatchN  (None, 50, 50, 64)  256         ['conv2d_30[0][0]']              \n",
            " ormalization)                                                                                    \n",
            "                                                                                                  \n",
            " add_14 (Add)                   (None, 50, 50, 64)   0           ['add_13[0][0]',                 \n",
            "                                                                  'batch_normalization_29[0][0]'] \n",
            "                                                                                                  \n",
            " conv2d_31 (Conv2D)             (None, 50, 50, 64)   36928       ['add_14[0][0]']                 \n",
            "                                                                                                  \n",
            " batch_normalization_30 (BatchN  (None, 50, 50, 64)  256         ['conv2d_31[0][0]']              \n",
            " ormalization)                                                                                    \n",
            "                                                                                                  \n",
            " p_re_lu_16 (PReLU)             (None, 50, 50, 64)   64          ['batch_normalization_30[0][0]'] \n",
            "                                                                                                  \n",
            " conv2d_32 (Conv2D)             (None, 50, 50, 64)   36928       ['p_re_lu_16[0][0]']             \n",
            "                                                                                                  \n",
            " batch_normalization_31 (BatchN  (None, 50, 50, 64)  256         ['conv2d_32[0][0]']              \n",
            " ormalization)                                                                                    \n",
            "                                                                                                  \n",
            " add_15 (Add)                   (None, 50, 50, 64)   0           ['add_14[0][0]',                 \n",
            "                                                                  'batch_normalization_31[0][0]'] \n",
            "                                                                                                  \n",
            " conv2d_33 (Conv2D)             (None, 50, 50, 64)   36928       ['add_15[0][0]']                 \n",
            "                                                                                                  \n",
            " batch_normalization_32 (BatchN  (None, 50, 50, 64)  256         ['conv2d_33[0][0]']              \n",
            " ormalization)                                                                                    \n",
            "                                                                                                  \n",
            " add_16 (Add)                   (None, 50, 50, 64)   0           ['batch_normalization_32[0][0]', \n",
            "                                                                  'p_re_lu[0][0]']                \n",
            "                                                                                                  \n",
            " conv2d_34 (Conv2D)             (None, 50, 50, 256)  147712      ['add_16[0][0]']                 \n",
            "                                                                                                  \n",
            " up_sampling2d (UpSampling2D)   (None, 100, 100, 25  0           ['conv2d_34[0][0]']              \n",
            "                                6)                                                                \n",
            "                                                                                                  \n",
            " p_re_lu_17 (PReLU)             (None, 100, 100, 25  256         ['up_sampling2d[0][0]']          \n",
            "                                6)                                                                \n",
            "                                                                                                  \n",
            " conv2d_35 (Conv2D)             (None, 100, 100, 25  590080      ['p_re_lu_17[0][0]']             \n",
            "                                6)                                                                \n",
            "                                                                                                  \n",
            " up_sampling2d_1 (UpSampling2D)  (None, 200, 200, 25  0          ['conv2d_35[0][0]']              \n",
            "                                6)                                                                \n",
            "                                                                                                  \n",
            " p_re_lu_18 (PReLU)             (None, 200, 200, 25  256         ['up_sampling2d_1[0][0]']        \n",
            "                                6)                                                                \n",
            "                                                                                                  \n",
            " conv2d_36 (Conv2D)             (None, 200, 200, 3)  62211       ['p_re_lu_18[0][0]']             \n",
            "                                                                                                  \n",
            "==================================================================================================\n",
            "Total params: 2,044,291\n",
            "Trainable params: 2,040,067\n",
            "Non-trainable params: 4,224\n",
            "__________________________________________________________________________________________________\n",
            "Model: \"model_1\"\n",
            "_________________________________________________________________\n",
            " Layer (type)                Output Shape              Param #   \n",
            "=================================================================\n",
            " input_2 (InputLayer)        [(None, 200, 200, 3)]     0         \n",
            "                                                                 \n",
            " conv2d_37 (Conv2D)          (None, 200, 200, 64)      1792      \n",
            "                                                                 \n",
            " leaky_re_lu (LeakyReLU)     (None, 200, 200, 64)      0         \n",
            "                                                                 \n",
            " conv2d_38 (Conv2D)          (None, 100, 100, 64)      36928     \n",
            "                                                                 \n",
            " batch_normalization_33 (Bat  (None, 100, 100, 64)     256       \n",
            " chNormalization)                                                \n",
            "                                                                 \n",
            " leaky_re_lu_1 (LeakyReLU)   (None, 100, 100, 64)      0         \n",
            "                                                                 \n",
            " conv2d_39 (Conv2D)          (None, 100, 100, 128)     73856     \n",
            "                                                                 \n",
            " batch_normalization_34 (Bat  (None, 100, 100, 128)    512       \n",
            " chNormalization)                                                \n",
            "                                                                 \n",
            " leaky_re_lu_2 (LeakyReLU)   (None, 100, 100, 128)     0         \n",
            "                                                                 \n",
            " conv2d_40 (Conv2D)          (None, 50, 50, 128)       147584    \n",
            "                                                                 \n",
            " batch_normalization_35 (Bat  (None, 50, 50, 128)      512       \n",
            " chNormalization)                                                \n",
            "                                                                 \n",
            " leaky_re_lu_3 (LeakyReLU)   (None, 50, 50, 128)       0         \n",
            "                                                                 \n",
            " conv2d_41 (Conv2D)          (None, 50, 50, 256)       295168    \n",
            "                                                                 \n",
            " batch_normalization_36 (Bat  (None, 50, 50, 256)      1024      \n",
            " chNormalization)                                                \n",
            "                                                                 \n",
            " leaky_re_lu_4 (LeakyReLU)   (None, 50, 50, 256)       0         \n",
            "                                                                 \n",
            " conv2d_42 (Conv2D)          (None, 25, 25, 256)       590080    \n",
            "                                                                 \n",
            " batch_normalization_37 (Bat  (None, 25, 25, 256)      1024      \n",
            " chNormalization)                                                \n",
            "                                                                 \n",
            " leaky_re_lu_5 (LeakyReLU)   (None, 25, 25, 256)       0         \n",
            "                                                                 \n",
            " conv2d_43 (Conv2D)          (None, 25, 25, 512)       1180160   \n",
            "                                                                 \n",
            " batch_normalization_38 (Bat  (None, 25, 25, 512)      2048      \n",
            " chNormalization)                                                \n",
            "                                                                 \n",
            " leaky_re_lu_6 (LeakyReLU)   (None, 25, 25, 512)       0         \n",
            "                                                                 \n",
            " conv2d_44 (Conv2D)          (None, 13, 13, 512)       2359808   \n",
            "                                                                 \n",
            " batch_normalization_39 (Bat  (None, 13, 13, 512)      2048      \n",
            " chNormalization)                                                \n",
            "                                                                 \n",
            " leaky_re_lu_7 (LeakyReLU)   (None, 13, 13, 512)       0         \n",
            "                                                                 \n",
            " flatten (Flatten)           (None, 86528)             0         \n",
            "                                                                 \n",
            " dense (Dense)               (None, 1024)              88605696  \n",
            "                                                                 \n",
            " leaky_re_lu_8 (LeakyReLU)   (None, 1024)              0         \n",
            "                                                                 \n",
            " dense_1 (Dense)             (None, 1)                 1025      \n",
            "                                                                 \n",
            "=================================================================\n",
            "Total params: 93,299,521\n",
            "Trainable params: 93,295,809\n",
            "Non-trainable params: 3,712\n",
            "_________________________________________________________________\n",
            "Model: \"model_2\"\n",
            "_________________________________________________________________\n",
            " Layer (type)                Output Shape              Param #   \n",
            "=================================================================\n",
            " input_3 (InputLayer)        [(None, 200, 200, 3)]     0         \n",
            "                                                                 \n",
            " block1_conv1 (Conv2D)       (None, 200, 200, 64)      1792      \n",
            "                                                                 \n",
            " block1_conv2 (Conv2D)       (None, 200, 200, 64)      36928     \n",
            "                                                                 \n",
            " block1_pool (MaxPooling2D)  (None, 100, 100, 64)      0         \n",
            "                                                                 \n",
            " block2_conv1 (Conv2D)       (None, 100, 100, 128)     73856     \n",
            "                                                                 \n",
            " block2_conv2 (Conv2D)       (None, 100, 100, 128)     147584    \n",
            "                                                                 \n",
            " block2_pool (MaxPooling2D)  (None, 50, 50, 128)       0         \n",
            "                                                                 \n",
            " block3_conv1 (Conv2D)       (None, 50, 50, 256)       295168    \n",
            "                                                                 \n",
            " block3_conv2 (Conv2D)       (None, 50, 50, 256)       590080    \n",
            "                                                                 \n",
            " block3_conv3 (Conv2D)       (None, 50, 50, 256)       590080    \n",
            "                                                                 \n",
            " block3_conv4 (Conv2D)       (None, 50, 50, 256)       590080    \n",
            "                                                                 \n",
            "=================================================================\n",
            "Total params: 2,325,568\n",
            "Trainable params: 2,325,568\n",
            "Non-trainable params: 0\n",
            "_________________________________________________________________\n",
            "None\n"
          ]
        }
      ],
      "source": [
        "hr_shape = (hr_train.shape[1], hr_train.shape[2], hr_train.shape[3])\n",
        "lr_shape = (lr_train.shape[1], lr_train.shape[2], lr_train.shape[3])\n",
        "\n",
        "lr_ip = Input(shape=lr_shape)\n",
        "hr_ip = Input(shape=hr_shape)\n",
        "\n",
        "generator = create_generator(lr_ip, num_res_block = 16)\n",
        "generator.summary()\n",
        "\n",
        "discriminator = create_discriminator(hr_ip)\n",
        "discriminator.compile(loss=\"binary_crossentropy\", optimizer=\"adam\", metrics=['accuracy'])\n",
        "discriminator.summary()\n",
        "\n",
        "vgg = vgg_build((200, 200, 3))\n",
        "print(vgg.summary())\n",
        "vgg.trainable = False\n",
        "\n",
        "gan_model = create_combined(generator, discriminator, vgg, lr_ip, hr_ip)"
      ]
    },
    {
      "cell_type": "code",
      "execution_count": null,
      "metadata": {
        "colab": {
          "base_uri": "https://localhost:8080/"
        },
        "id": "OS2hvtWhpdAh",
        "outputId": "da2faacc-c39a-41e7-a82b-0e53814bad7a"
      },
      "outputs": [
        {
          "name": "stdout",
          "output_type": "stream",
          "text": [
            "Model: \"model_3\"\n",
            "__________________________________________________________________________________________________\n",
            " Layer (type)                   Output Shape         Param #     Connected to                     \n",
            "==================================================================================================\n",
            " input_1 (InputLayer)           [(None, 50, 50, 3)]  0           []                               \n",
            "                                                                                                  \n",
            " model (Functional)             (None, 200, 200, 3)  2044291     ['input_1[0][0]']                \n",
            "                                                                                                  \n",
            " input_2 (InputLayer)           [(None, 200, 200, 3  0           []                               \n",
            "                                )]                                                                \n",
            "                                                                                                  \n",
            " model_1 (Functional)           (None, 1)            93299521    ['model[0][0]']                  \n",
            "                                                                                                  \n",
            " model_2 (Functional)           (None, 50, 50, 256)  2325568     ['model[0][0]']                  \n",
            "                                                                                                  \n",
            "==================================================================================================\n",
            "Total params: 97,669,380\n",
            "Trainable params: 2,040,067\n",
            "Non-trainable params: 95,629,313\n",
            "__________________________________________________________________________________________________\n"
          ]
        }
      ],
      "source": [
        "gan_model.compile(loss=[\"binary_crossentropy\", \"mse\"], loss_weights=[1e-4, 1], optimizer=\"adam\")\n",
        "gan_model.summary()"
      ]
    },
    {
      "cell_type": "markdown",
      "source": [
        "Creating Batch Size"
      ],
      "metadata": {
        "id": "qB3qjHrxvFr5"
      }
    },
    {
      "cell_type": "code",
      "execution_count": null,
      "metadata": {
        "id": "flUSZoGKphI1"
      },
      "outputs": [],
      "source": [
        "batch_size = 1\n",
        "train_lr_batch = []\n",
        "train_hr_batch = []\n",
        "for a in range(int(hr_train.shape[0] / batch_size)):\n",
        "  start_id = a * batch_size\n",
        "  end_id = start_id + batch_size\n",
        "  train_hr_batch.append(hr_train[start_id:end_id])\n",
        "  train_lr_batch.append(lr_train[start_id:end_id])\n"
      ]
    },
    {
      "cell_type": "markdown",
      "source": [
        "Training Dataset"
      ],
      "metadata": {
        "id": "kK-T0OuOvHUQ"
      }
    },
    {
      "cell_type": "code",
      "execution_count": null,
      "metadata": {
        "colab": {
          "base_uri": "https://localhost:8080/"
        },
        "id": "-_H9hq7IqNni",
        "outputId": "0d247098-79dc-4508-e5ea-753a11bd8d69"
      },
      "outputs": [
        {
          "name": "stderr",
          "output_type": "stream",
          "text": [
            "100%|██████████| 1005/1005 [04:15<00:00,  3.94it/s]\n"
          ]
        },
        {
          "name": "stdout",
          "output_type": "stream",
          "text": [
            "epoch: 1 g_loss: 153.6031085341724 d_loss: [1.70579664 0.98756219]\n"
          ]
        },
        {
          "name": "stderr",
          "output_type": "stream",
          "text": [
            "100%|██████████| 1005/1005 [03:58<00:00,  4.21it/s]\n"
          ]
        },
        {
          "name": "stdout",
          "output_type": "stream",
          "text": [
            "epoch: 2 g_loss: 130.10758276033164 d_loss: [0. 1.]\n"
          ]
        },
        {
          "name": "stderr",
          "output_type": "stream",
          "text": [
            "100%|██████████| 1005/1005 [03:56<00:00,  4.24it/s]\n"
          ]
        },
        {
          "name": "stdout",
          "output_type": "stream",
          "text": [
            "epoch: 3 g_loss: 127.12057646945934 d_loss: [0. 1.]\n"
          ]
        },
        {
          "name": "stderr",
          "output_type": "stream",
          "text": [
            "100%|██████████| 1005/1005 [03:56<00:00,  4.24it/s]\n"
          ]
        },
        {
          "name": "stdout",
          "output_type": "stream",
          "text": [
            "epoch: 4 g_loss: 124.59626227231762 d_loss: [0. 1.]\n"
          ]
        },
        {
          "name": "stderr",
          "output_type": "stream",
          "text": [
            "100%|██████████| 1005/1005 [03:57<00:00,  4.24it/s]"
          ]
        },
        {
          "name": "stdout",
          "output_type": "stream",
          "text": [
            "epoch: 5 g_loss: 123.6850916696425 d_loss: [0.97075736 0.99751244]\n",
            "WARNING:tensorflow:Compiled the loaded model, but the compiled metrics have yet to be built. `model.compile_metrics` will be empty until you train or evaluate the model.\n"
          ]
        },
        {
          "name": "stderr",
          "output_type": "stream",
          "text": [
            "\n"
          ]
        }
      ],
      "source": [
        "epochs = 5\n",
        "for e in range(epochs):\n",
        "\n",
        "  fake_label = np.zeros((batch_size, 1))\n",
        "  real_label = np.ones((batch_size, 1))\n",
        "\n",
        "  gen_loss = []\n",
        "  disc_loss = []\n",
        "\n",
        "  for a in tqdm(range(len(train_hr_batch))):\n",
        "    lr_img = train_lr_batch[a]\n",
        "    hr_img = train_hr_batch[a]\n",
        "\n",
        "    fake_img = generator.predict_on_batch(lr_img)\n",
        "\n",
        "    discriminator.trainable = True\n",
        "    d_loss_gen = discriminator.train_on_batch(fake_img, fake_label)\n",
        "    d_loss_real = discriminator.train_on_batch(hr_img, real_label)\n",
        "\n",
        "    discriminator.trainable = False\n",
        "\n",
        "    d_loss = 0.5 * np.add(d_loss_gen, d_loss_real)\n",
        "\n",
        "    image_features = vgg.predict(hr_img)\n",
        "\n",
        "    g_loss, _, _ = gan_model.train_on_batch([lr_img, hr_img], [real_label, image_features])\n",
        "\n",
        "    #Save losses to a list so we can average and report. \n",
        "    disc_loss.append(d_loss)\n",
        "    gen_loss.append(g_loss)\n",
        "\n",
        "  #Convert the list of losses to an array to make it easy to average    \n",
        "  gen_loss = np.array(gen_loss )\n",
        "  disc_loss = np.array(disc_loss)\n",
        "    \n",
        "  #Calculate the average losses for generator and discriminator\n",
        "  g_loss = np.sum(gen_loss, axis=0) / len(gen_loss)\n",
        "  d_loss = np.sum(disc_loss, axis=0) / len(disc_loss)\n",
        "    \n",
        "  #Report the progress during training. \n",
        "  print(\"epoch:\", e+1 ,\"g_loss:\", g_loss, \"d_loss:\", d_loss)\n",
        "\n",
        "  if (e+1) % 5 == 0: #Change the frequency for model saving, if needed\n",
        "      #Save the generator after every n epochs (Usually 10 epochs)\n",
        "      generator.save(\"gen_e_\"+ str(e+1) +\".h5\")"
      ]
    },
    {
      "cell_type": "code",
      "execution_count": null,
      "metadata": {
        "id": "q4FEKTsUwH1i"
      },
      "outputs": [],
      "source": [
        "from keras.models import load_model\n",
        "from numpy.random import randint\n",
        "\n",
        "generator = load_model('gen_e_5.h5', compile=False)"
      ]
    },
    {
      "cell_type": "code",
      "execution_count": null,
      "metadata": {
        "colab": {
          "base_uri": "https://localhost:8080/"
        },
        "id": "ky2EhawD1scG",
        "outputId": "a64d148a-3fbb-4687-e32d-cb9a79e48089"
      },
      "outputs": [
        {
          "name": "stdout",
          "output_type": "stream",
          "text": [
            "INFO:tensorflow:Assets written to: /tmp/tmp9fu8ufgl/assets\n"
          ]
        },
        {
          "name": "stderr",
          "output_type": "stream",
          "text": [
            "WARNING:absl:Buffer deduplication procedure will be skipped when flatbuffer library is not properly loaded\n"
          ]
        },
        {
          "data": {
            "text/plain": [
              "8173236"
            ]
          },
          "execution_count": 19,
          "metadata": {},
          "output_type": "execute_result"
        }
      ],
      "source": [
        "from keras.models import load_model\n",
        "import tensorflow as tf\n",
        "\n",
        "model = tf.keras.models.load_model('gen_e_5.h5', compile=False)\n",
        "converter = tf.lite.TFLiteConverter.from_keras_model(model)\n",
        "tflite_model = converter.convert()\n",
        "open(\"converted_model.tflite\", \"wb\").write(tflite_model)"
      ]
    },
    {
      "cell_type": "markdown",
      "source": [
        "Visualization of Image using the model"
      ],
      "metadata": {
        "id": "4Y1otttpvKou"
      }
    },
    {
      "cell_type": "code",
      "execution_count": null,
      "metadata": {
        "colab": {
          "background_save": true
        },
        "id": "n5__Y068w2oO",
        "outputId": "1614354e-7352-4b87-a795-bef4b245a676"
      },
      "outputs": [
        {
          "name": "stderr",
          "output_type": "stream",
          "text": [
            "WARNING:matplotlib.image:Clipping input data to the valid range for imshow with RGB data ([0..1] for floats or [0..255] for integers).\n"
          ]
        },
        {
          "data": {
            "image/png": "[encoded data removed]",
            "text/plain": [
              "<Figure size 1152x576 with 3 Axes>"
            ]
          },
          "metadata": {},
          "output_type": "display_data"
        }
      ],
      "source": [
        "[x1, x2] = [lr_test, hr_test]\n",
        "ex = randint(0, len(x1), 1)   #selesct random example\n",
        "src_img, target_img = x1[ex], x2[ex]\n",
        "\n",
        "gen_image = generator.predict(src_img)\n",
        "\n",
        "#plot images\n",
        "plt.figure(figsize=(16, 8))\n",
        "plt.subplot(231)\n",
        "plt.title('Low Resolution Image')\n",
        "plt.imshow(src_img[0,:,:])\n",
        "plt.subplot(232)\n",
        "plt.title('Super Resolution')\n",
        "plt.imshow(gen_image[0,:,:,:])\n",
        "plt.subplot(233)\n",
        "plt.title('Original Image')\n",
        "plt.imshow(target_img[0,:,:,:])\n",
        "plt.show()\n"
      ]
    },
    {
      "cell_type": "code",
      "execution_count": null,
      "metadata": {
        "id": "Uw0nycTS9dXo"
      },
      "outputs": [],
      "source": [
        "from keras.models import load_model\n",
        "from numpy.random import randint\n",
        "\n",
        "generator = load_model('/content/sample_data/gen_e_5.h5', compile=False)\n"
      ]
    }
  ],
  "metadata": {
    "accelerator": "GPU",
    "colab": {
      "collapsed_sections": [],
      "name": "SRGAN QR CODE.ipynb",
      "provenance": []
    },
    "kernelspec": {
      "display_name": "Python 3",
      "name": "python3"
    },
    "language_info": {
      "name": "python"
    }
  },
  "nbformat": 4,
  "nbformat_minor": 0
}